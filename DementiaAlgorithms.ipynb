{
  "nbformat": 4,
  "nbformat_minor": 0,
  "metadata": {
    "colab": {
      "name": "DementiaAlgorithms.ipynb",
      "provenance": [],
      "toc_visible": true
    },
    "kernelspec": {
      "name": "python3",
      "display_name": "Python 3"
    },
    "language_info": {
      "name": "python"
    }
  },
  "cells": [
    {
      "cell_type": "markdown",
      "metadata": {
        "id": "sA9XgDFi1Y5c"
      },
      "source": [
        "## Dataset and Analysis"
      ]
    },
    {
      "cell_type": "markdown",
      "metadata": {
        "id": "dL8GPTPdwG6_"
      },
      "source": [
        "Import all the necessary libraries and modules for machine learning and deep learning"
      ]
    },
    {
      "cell_type": "code",
      "metadata": {
        "id": "ionKjtEMvzwY"
      },
      "source": [
        "import pandas as pd\n",
        "import numpy as np\n",
        "import seaborn as sns\n",
        "import matplotlib.pyplot as plt\n",
        "\n",
        "from sklearn.model_selection import train_test_split\n",
        "from sklearn import preprocessing\n",
        "from sklearn.preprocessing import MinMaxScaler, StandardScaler \n",
        "from sklearn.model_selection import cross_val_score\n",
        "\n",
        "import tensorflow as tf\n",
        "from keras.models import Model, Sequential\n",
        "from keras.layers import Input,Dense\n",
        "\n",
        "from sklearn.linear_model import LogisticRegression\n",
        "from sklearn.svm import SVC\n",
        "from sklearn.tree import DecisionTreeClassifier\n",
        "from sklearn.ensemble import RandomForestClassifier\n",
        "from sklearn.ensemble import AdaBoostClassifier\n",
        "from sklearn.metrics import confusion_matrix, accuracy_score, recall_score, roc_curve, auc\n",
        "\n",
        "%matplotlib inline\n",
        "\n",
        "sns.set()"
      ],
      "execution_count": 20,
      "outputs": []
    },
    {
      "cell_type": "markdown",
      "metadata": {
        "id": "6YnC9hL_wPbB"
      },
      "source": [
        "Read the .csv file for our data"
      ]
    },
    {
      "cell_type": "code",
      "metadata": {
        "id": "qBmS4vU4wAFq"
      },
      "source": [
        "df = pd.read_csv('oasis_longitudinal.csv')"
      ],
      "execution_count": 21,
      "outputs": []
    },
    {
      "cell_type": "markdown",
      "metadata": {
        "id": "d5kiPkqCwV3G"
      },
      "source": [
        "Filter all the patients according to their visits and show patients whose visit input == 1"
      ]
    },
    {
      "cell_type": "code",
      "metadata": {
        "id": "NiMVaibiwfUR"
      },
      "source": [
        "df = df.loc[df['Visit']==1]"
      ],
      "execution_count": 22,
      "outputs": []
    },
    {
      "cell_type": "markdown",
      "metadata": {
        "id": "wqBtd_elw6V5"
      },
      "source": [
        "Reset the index values so that they are in sequence"
      ]
    },
    {
      "cell_type": "code",
      "metadata": {
        "id": "AwiOSmYzw-TS"
      },
      "source": [
        "df = df.reset_index(drop=True)"
      ],
      "execution_count": 23,
      "outputs": []
    },
    {
      "cell_type": "markdown",
      "metadata": {
        "id": "vcMcP78uxHBF"
      },
      "source": [
        "Drop unnecessary columns and replace the data which cannot be read"
      ]
    },
    {
      "cell_type": "code",
      "metadata": {
        "id": "lVQfo6_9xMve"
      },
      "source": [
        "df['M/F'] = df['M/F'].replace(['F','M'], [0,1]) # M/F column\n",
        "df['Group'] = df['Group'].replace(['Converted'], ['Demented']) # Target variable\n",
        "df['Group'] = df['Group'].replace(['Demented', 'Nondemented'], [1,0]) # Target variable\n",
        "df = df.drop(['MRI ID', 'Visit', 'Hand'], axis=1) # Drop unnecessary columns"
      ],
      "execution_count": 24,
      "outputs": []
    },
    {
      "cell_type": "markdown",
      "metadata": {
        "id": "dRLCUMEU5n6q"
      },
      "source": [
        "## Data Preprocessing"
      ]
    },
    {
      "cell_type": "markdown",
      "metadata": {
        "id": "irCb50lAxRY4"
      },
      "source": [
        "Identify fields which have unreadable datatypes"
      ]
    },
    {
      "cell_type": "code",
      "metadata": {
        "colab": {
          "base_uri": "https://localhost:8080/"
        },
        "id": "ghT1AL6ixUwr",
        "outputId": "7ac3c2d3-33b0-4f3a-c27e-96d7f7ed6edf"
      },
      "source": [
        "pd.isnull(df).sum() \n",
        "#df[\"SES\"].fillna(df.groupby(\"EDUC\")[\"SES\"].transform(\"median\"), inplace=True)"
      ],
      "execution_count": 25,
      "outputs": [
        {
          "output_type": "execute_result",
          "data": {
            "text/plain": [
              "Subject ID    0\n",
              "Group         0\n",
              "MR Delay      0\n",
              "M/F           0\n",
              "Age           0\n",
              "EDUC          0\n",
              "SES           8\n",
              "MMSE          0\n",
              "CDR           0\n",
              "eTIV          0\n",
              "nWBV          0\n",
              "ASF           0\n",
              "dtype: int64"
            ]
          },
          "metadata": {
            "tags": []
          },
          "execution_count": 25
        }
      ]
    },
    {
      "cell_type": "markdown",
      "metadata": {
        "id": "IO4nz3hYxZ6s"
      },
      "source": [
        "Drop fields which have unreadable datatypes"
      ]
    },
    {
      "cell_type": "code",
      "metadata": {
        "colab": {
          "base_uri": "https://localhost:8080/"
        },
        "id": "EhdgQfIwxdEi",
        "outputId": "06d24898-519c-4cfd-a000-9d0eb133ef05"
      },
      "source": [
        "df_dropna = df.dropna(axis=0, how='any')\n",
        "pd.isnull(df_dropna).sum()\n",
        "#pd.isnull(df).sum()"
      ],
      "execution_count": 26,
      "outputs": [
        {
          "output_type": "execute_result",
          "data": {
            "text/plain": [
              "Subject ID    0\n",
              "Group         0\n",
              "MR Delay      0\n",
              "M/F           0\n",
              "Age           0\n",
              "EDUC          0\n",
              "SES           0\n",
              "MMSE          0\n",
              "CDR           0\n",
              "eTIV          0\n",
              "nWBV          0\n",
              "ASF           0\n",
              "dtype: int64"
            ]
          },
          "metadata": {
            "tags": []
          },
          "execution_count": 26
        }
      ]
    },
    {
      "cell_type": "markdown",
      "metadata": {
        "id": "1d_ohmZ1xilM"
      },
      "source": [
        "Differentiate patients as to demented and nondemented"
      ]
    },
    {
      "cell_type": "code",
      "metadata": {
        "colab": {
          "base_uri": "https://localhost:8080/"
        },
        "id": "PdG33prnxly6",
        "outputId": "32dd6ab8-68cd-43d7-a83c-1316f245cd66"
      },
      "source": [
        "df_dropna['Group'].value_counts()"
      ],
      "execution_count": 27,
      "outputs": [
        {
          "output_type": "execute_result",
          "data": {
            "text/plain": [
              "0    72\n",
              "1    70\n",
              "Name: Group, dtype: int64"
            ]
          },
          "metadata": {
            "tags": []
          },
          "execution_count": 27
        }
      ]
    },
    {
      "cell_type": "markdown",
      "metadata": {
        "id": "o7BLPPIAxt7N"
      },
      "source": [
        "Reset indexes in sequential order"
      ]
    },
    {
      "cell_type": "code",
      "metadata": {
        "colab": {
          "base_uri": "https://localhost:8080/",
          "height": 419
        },
        "id": "B1HA_TmvxxeH",
        "outputId": "c0c7a228-6f00-4382-dac3-c755a1080d33"
      },
      "source": [
        "df = df_dropna.reset_index(drop=True)\n",
        "df"
      ],
      "execution_count": 28,
      "outputs": [
        {
          "output_type": "execute_result",
          "data": {
            "text/html": [
              "<div>\n",
              "<style scoped>\n",
              "    .dataframe tbody tr th:only-of-type {\n",
              "        vertical-align: middle;\n",
              "    }\n",
              "\n",
              "    .dataframe tbody tr th {\n",
              "        vertical-align: top;\n",
              "    }\n",
              "\n",
              "    .dataframe thead th {\n",
              "        text-align: right;\n",
              "    }\n",
              "</style>\n",
              "<table border=\"1\" class=\"dataframe\">\n",
              "  <thead>\n",
              "    <tr style=\"text-align: right;\">\n",
              "      <th></th>\n",
              "      <th>Subject ID</th>\n",
              "      <th>Group</th>\n",
              "      <th>MR Delay</th>\n",
              "      <th>M/F</th>\n",
              "      <th>Age</th>\n",
              "      <th>EDUC</th>\n",
              "      <th>SES</th>\n",
              "      <th>MMSE</th>\n",
              "      <th>CDR</th>\n",
              "      <th>eTIV</th>\n",
              "      <th>nWBV</th>\n",
              "      <th>ASF</th>\n",
              "    </tr>\n",
              "  </thead>\n",
              "  <tbody>\n",
              "    <tr>\n",
              "      <th>0</th>\n",
              "      <td>OAS2_0001</td>\n",
              "      <td>0</td>\n",
              "      <td>0</td>\n",
              "      <td>1</td>\n",
              "      <td>87</td>\n",
              "      <td>14</td>\n",
              "      <td>2.0</td>\n",
              "      <td>27.0</td>\n",
              "      <td>0.0</td>\n",
              "      <td>1987</td>\n",
              "      <td>0.696</td>\n",
              "      <td>0.883</td>\n",
              "    </tr>\n",
              "    <tr>\n",
              "      <th>1</th>\n",
              "      <td>OAS2_0004</td>\n",
              "      <td>0</td>\n",
              "      <td>0</td>\n",
              "      <td>0</td>\n",
              "      <td>88</td>\n",
              "      <td>18</td>\n",
              "      <td>3.0</td>\n",
              "      <td>28.0</td>\n",
              "      <td>0.0</td>\n",
              "      <td>1215</td>\n",
              "      <td>0.710</td>\n",
              "      <td>1.444</td>\n",
              "    </tr>\n",
              "    <tr>\n",
              "      <th>2</th>\n",
              "      <td>OAS2_0005</td>\n",
              "      <td>0</td>\n",
              "      <td>0</td>\n",
              "      <td>1</td>\n",
              "      <td>80</td>\n",
              "      <td>12</td>\n",
              "      <td>4.0</td>\n",
              "      <td>28.0</td>\n",
              "      <td>0.0</td>\n",
              "      <td>1689</td>\n",
              "      <td>0.712</td>\n",
              "      <td>1.039</td>\n",
              "    </tr>\n",
              "    <tr>\n",
              "      <th>3</th>\n",
              "      <td>OAS2_0008</td>\n",
              "      <td>0</td>\n",
              "      <td>0</td>\n",
              "      <td>0</td>\n",
              "      <td>93</td>\n",
              "      <td>14</td>\n",
              "      <td>2.0</td>\n",
              "      <td>30.0</td>\n",
              "      <td>0.0</td>\n",
              "      <td>1272</td>\n",
              "      <td>0.698</td>\n",
              "      <td>1.380</td>\n",
              "    </tr>\n",
              "    <tr>\n",
              "      <th>4</th>\n",
              "      <td>OAS2_0009</td>\n",
              "      <td>1</td>\n",
              "      <td>0</td>\n",
              "      <td>1</td>\n",
              "      <td>68</td>\n",
              "      <td>12</td>\n",
              "      <td>2.0</td>\n",
              "      <td>27.0</td>\n",
              "      <td>0.5</td>\n",
              "      <td>1457</td>\n",
              "      <td>0.806</td>\n",
              "      <td>1.205</td>\n",
              "    </tr>\n",
              "    <tr>\n",
              "      <th>...</th>\n",
              "      <td>...</td>\n",
              "      <td>...</td>\n",
              "      <td>...</td>\n",
              "      <td>...</td>\n",
              "      <td>...</td>\n",
              "      <td>...</td>\n",
              "      <td>...</td>\n",
              "      <td>...</td>\n",
              "      <td>...</td>\n",
              "      <td>...</td>\n",
              "      <td>...</td>\n",
              "      <td>...</td>\n",
              "    </tr>\n",
              "    <tr>\n",
              "      <th>137</th>\n",
              "      <td>OAS2_0179</td>\n",
              "      <td>1</td>\n",
              "      <td>0</td>\n",
              "      <td>1</td>\n",
              "      <td>79</td>\n",
              "      <td>20</td>\n",
              "      <td>1.0</td>\n",
              "      <td>26.0</td>\n",
              "      <td>0.5</td>\n",
              "      <td>1548</td>\n",
              "      <td>0.711</td>\n",
              "      <td>1.134</td>\n",
              "    </tr>\n",
              "    <tr>\n",
              "      <th>138</th>\n",
              "      <td>OAS2_0183</td>\n",
              "      <td>0</td>\n",
              "      <td>0</td>\n",
              "      <td>0</td>\n",
              "      <td>66</td>\n",
              "      <td>13</td>\n",
              "      <td>2.0</td>\n",
              "      <td>30.0</td>\n",
              "      <td>0.0</td>\n",
              "      <td>1495</td>\n",
              "      <td>0.746</td>\n",
              "      <td>1.174</td>\n",
              "    </tr>\n",
              "    <tr>\n",
              "      <th>139</th>\n",
              "      <td>OAS2_0184</td>\n",
              "      <td>1</td>\n",
              "      <td>0</td>\n",
              "      <td>0</td>\n",
              "      <td>72</td>\n",
              "      <td>16</td>\n",
              "      <td>3.0</td>\n",
              "      <td>24.0</td>\n",
              "      <td>0.5</td>\n",
              "      <td>1354</td>\n",
              "      <td>0.733</td>\n",
              "      <td>1.296</td>\n",
              "    </tr>\n",
              "    <tr>\n",
              "      <th>140</th>\n",
              "      <td>OAS2_0185</td>\n",
              "      <td>1</td>\n",
              "      <td>0</td>\n",
              "      <td>1</td>\n",
              "      <td>80</td>\n",
              "      <td>16</td>\n",
              "      <td>1.0</td>\n",
              "      <td>28.0</td>\n",
              "      <td>0.5</td>\n",
              "      <td>1704</td>\n",
              "      <td>0.711</td>\n",
              "      <td>1.030</td>\n",
              "    </tr>\n",
              "    <tr>\n",
              "      <th>141</th>\n",
              "      <td>OAS2_0186</td>\n",
              "      <td>0</td>\n",
              "      <td>0</td>\n",
              "      <td>0</td>\n",
              "      <td>61</td>\n",
              "      <td>13</td>\n",
              "      <td>2.0</td>\n",
              "      <td>30.0</td>\n",
              "      <td>0.0</td>\n",
              "      <td>1319</td>\n",
              "      <td>0.801</td>\n",
              "      <td>1.331</td>\n",
              "    </tr>\n",
              "  </tbody>\n",
              "</table>\n",
              "<p>142 rows × 12 columns</p>\n",
              "</div>"
            ],
            "text/plain": [
              "    Subject ID  Group  MR Delay  M/F  Age  ...  MMSE  CDR  eTIV   nWBV    ASF\n",
              "0    OAS2_0001      0         0    1   87  ...  27.0  0.0  1987  0.696  0.883\n",
              "1    OAS2_0004      0         0    0   88  ...  28.0  0.0  1215  0.710  1.444\n",
              "2    OAS2_0005      0         0    1   80  ...  28.0  0.0  1689  0.712  1.039\n",
              "3    OAS2_0008      0         0    0   93  ...  30.0  0.0  1272  0.698  1.380\n",
              "4    OAS2_0009      1         0    1   68  ...  27.0  0.5  1457  0.806  1.205\n",
              "..         ...    ...       ...  ...  ...  ...   ...  ...   ...    ...    ...\n",
              "137  OAS2_0179      1         0    1   79  ...  26.0  0.5  1548  0.711  1.134\n",
              "138  OAS2_0183      0         0    0   66  ...  30.0  0.0  1495  0.746  1.174\n",
              "139  OAS2_0184      1         0    0   72  ...  24.0  0.5  1354  0.733  1.296\n",
              "140  OAS2_0185      1         0    1   80  ...  28.0  0.5  1704  0.711  1.030\n",
              "141  OAS2_0186      0         0    0   61  ...  30.0  0.0  1319  0.801  1.331\n",
              "\n",
              "[142 rows x 12 columns]"
            ]
          },
          "metadata": {
            "tags": []
          },
          "execution_count": 28
        }
      ]
    },
    {
      "cell_type": "markdown",
      "metadata": {
        "id": "neV9oTNJz6Ll"
      },
      "source": [
        "Set x and y inputs for Training and Validation Data"
      ]
    },
    {
      "cell_type": "code",
      "metadata": {
        "id": "zURYehzP0BFj"
      },
      "source": [
        "Y = df['Group'].values # Target for the model\n",
        "X = df[['M/F', 'Age', 'EDUC', 'SES', 'MMSE', 'eTIV', 'nWBV', 'ASF']] # Features we use\n",
        "\n",
        "# splitting into three sets\n",
        "X_trainval, X_test, Y_trainval, Y_test = train_test_split(\n",
        "    X, Y, random_state=10,stratify=df['Group'].values)\n",
        "\n",
        "# Feature scaling\n",
        "scaler = StandardScaler().fit(X_trainval)\n",
        "X_trainval_scaled = scaler.transform(X_trainval)\n",
        "X_test_scaled = scaler.transform(X_test)"
      ],
      "execution_count": 29,
      "outputs": []
    },
    {
      "cell_type": "markdown",
      "metadata": {
        "id": "8cI6hzc20C9L"
      },
      "source": [
        "Print the Data"
      ]
    },
    {
      "cell_type": "code",
      "metadata": {
        "colab": {
          "base_uri": "https://localhost:8080/"
        },
        "id": "F44LxVfw0FAP",
        "outputId": "7378e9ed-8390-46a6-8201-86e18fbcb6cd"
      },
      "source": [
        "print('Number of demented samples in training data:',(np.asarray(Y_trainval)==1).sum())\n",
        "print('Number of non-demented samples in training data:',(np.asarray(Y_trainval)==0).sum())\n",
        "print('Traning data features:',X_trainval.shape)\n",
        "print('Training data labels:',Y_trainval.shape)\n",
        "\n",
        "print('Testing data features:',X_test_scaled.shape)\n",
        "print('Testing data labels:',Y_test.shape)"
      ],
      "execution_count": 30,
      "outputs": [
        {
          "output_type": "stream",
          "text": [
            "Number of demented samples in training data: 52\n",
            "Number of non-demented samples in training data: 54\n",
            "Traning data features: (106, 8)\n",
            "Training data labels: (106,)\n",
            "Testing data features: (36, 8)\n",
            "Testing data labels: (36,)\n"
          ],
          "name": "stdout"
        }
      ]
    },
    {
      "cell_type": "markdown",
      "metadata": {
        "id": "UFApkVOM0NWE"
      },
      "source": [
        "The above section of the code included fetching the file and filtering and modifying the data according to our use."
      ]
    },
    {
      "cell_type": "markdown",
      "metadata": {
        "id": "813ECp_x0W_T"
      },
      "source": [
        "## Simple Feed-Forward Neural Network"
      ]
    },
    {
      "cell_type": "markdown",
      "metadata": {
        "id": "fsiF0TaD0t8k"
      },
      "source": [
        "Initialising the model"
      ]
    },
    {
      "cell_type": "code",
      "metadata": {
        "colab": {
          "base_uri": "https://localhost:8080/"
        },
        "id": "kwfIvURm0iPE",
        "outputId": "142e202b-0842-4277-c23c-6382bbef9987"
      },
      "source": [
        "# model = Sequential()\n",
        "# model.add(Dense(12,activation='relu',input_dim=X_train.shape[0]))\n",
        "# model.add(Dense(8,activation='relu'))\n",
        "# model.add(Dense(1,activation='sigmoid'))\n",
        "input_shape = (X_trainval_scaled.shape[-1])\n",
        "i = Input(shape = input_shape)\n",
        "x = Dense(12,activation='relu',kernel_initializer='he_normal')(i)\n",
        "x = Dense(8,activation='relu',kernel_initializer='he_normal')(x)\n",
        "x = Dense(1, activation='sigmoid')(x)\n",
        "model = Model(i,x)\n",
        "model.summary()"
      ],
      "execution_count": 31,
      "outputs": [
        {
          "output_type": "stream",
          "text": [
            "Model: \"model_1\"\n",
            "_________________________________________________________________\n",
            "Layer (type)                 Output Shape              Param #   \n",
            "=================================================================\n",
            "input_2 (InputLayer)         [(None, 8)]               0         \n",
            "_________________________________________________________________\n",
            "dense_3 (Dense)              (None, 12)                108       \n",
            "_________________________________________________________________\n",
            "dense_4 (Dense)              (None, 8)                 104       \n",
            "_________________________________________________________________\n",
            "dense_5 (Dense)              (None, 1)                 9         \n",
            "=================================================================\n",
            "Total params: 221\n",
            "Trainable params: 221\n",
            "Non-trainable params: 0\n",
            "_________________________________________________________________\n"
          ],
          "name": "stdout"
        }
      ]
    },
    {
      "cell_type": "markdown",
      "metadata": {
        "id": "ChrBr98z0wFg"
      },
      "source": [
        "Compiling the model"
      ]
    },
    {
      "cell_type": "code",
      "metadata": {
        "colab": {
          "base_uri": "https://localhost:8080/"
        },
        "id": "SGYC6kt001ZK",
        "outputId": "c701c259-5b22-4f3a-d668-3156000b8994"
      },
      "source": [
        "model.compile(loss='binary_crossentropy',optimizer='adam',metrics='accuracy')\n",
        "model.fit(X_trainval_scaled,Y_trainval,epochs=75,batch_size=4,validation_data=(X_test_scaled,Y_test))"
      ],
      "execution_count": 32,
      "outputs": [
        {
          "output_type": "stream",
          "text": [
            "Epoch 1/75\n",
            "27/27 [==============================] - 1s 12ms/step - loss: 0.9392 - accuracy: 0.3736 - val_loss: 0.8915 - val_accuracy: 0.3333\n",
            "Epoch 2/75\n",
            "27/27 [==============================] - 0s 2ms/step - loss: 0.8712 - accuracy: 0.4309 - val_loss: 0.8552 - val_accuracy: 0.3611\n",
            "Epoch 3/75\n",
            "27/27 [==============================] - 0s 2ms/step - loss: 0.7809 - accuracy: 0.4864 - val_loss: 0.8259 - val_accuracy: 0.3333\n",
            "Epoch 4/75\n",
            "27/27 [==============================] - 0s 2ms/step - loss: 0.7460 - accuracy: 0.4162 - val_loss: 0.8014 - val_accuracy: 0.3333\n",
            "Epoch 5/75\n",
            "27/27 [==============================] - 0s 2ms/step - loss: 0.7083 - accuracy: 0.5010 - val_loss: 0.7787 - val_accuracy: 0.3611\n",
            "Epoch 6/75\n",
            "27/27 [==============================] - 0s 3ms/step - loss: 0.6956 - accuracy: 0.5546 - val_loss: 0.7604 - val_accuracy: 0.4444\n",
            "Epoch 7/75\n",
            "27/27 [==============================] - 0s 3ms/step - loss: 0.6691 - accuracy: 0.6057 - val_loss: 0.7460 - val_accuracy: 0.4722\n",
            "Epoch 8/75\n",
            "27/27 [==============================] - 0s 3ms/step - loss: 0.6365 - accuracy: 0.6139 - val_loss: 0.7352 - val_accuracy: 0.5000\n",
            "Epoch 9/75\n",
            "27/27 [==============================] - 0s 2ms/step - loss: 0.6129 - accuracy: 0.6200 - val_loss: 0.7133 - val_accuracy: 0.5278\n",
            "Epoch 10/75\n",
            "27/27 [==============================] - 0s 2ms/step - loss: 0.5867 - accuracy: 0.7860 - val_loss: 0.7087 - val_accuracy: 0.5278\n",
            "Epoch 11/75\n",
            "27/27 [==============================] - 0s 2ms/step - loss: 0.6081 - accuracy: 0.7231 - val_loss: 0.6953 - val_accuracy: 0.5278\n",
            "Epoch 12/75\n",
            "27/27 [==============================] - 0s 2ms/step - loss: 0.5760 - accuracy: 0.7381 - val_loss: 0.6764 - val_accuracy: 0.5556\n",
            "Epoch 13/75\n",
            "27/27 [==============================] - 0s 2ms/step - loss: 0.5577 - accuracy: 0.7796 - val_loss: 0.6695 - val_accuracy: 0.5556\n",
            "Epoch 14/75\n",
            "27/27 [==============================] - 0s 2ms/step - loss: 0.5912 - accuracy: 0.7022 - val_loss: 0.6543 - val_accuracy: 0.5833\n",
            "Epoch 15/75\n",
            "27/27 [==============================] - 0s 2ms/step - loss: 0.5475 - accuracy: 0.7612 - val_loss: 0.6490 - val_accuracy: 0.5833\n",
            "Epoch 16/75\n",
            "27/27 [==============================] - 0s 2ms/step - loss: 0.5730 - accuracy: 0.7136 - val_loss: 0.6462 - val_accuracy: 0.6111\n",
            "Epoch 17/75\n",
            "27/27 [==============================] - 0s 3ms/step - loss: 0.5512 - accuracy: 0.6976 - val_loss: 0.6416 - val_accuracy: 0.6389\n",
            "Epoch 18/75\n",
            "27/27 [==============================] - 0s 3ms/step - loss: 0.5077 - accuracy: 0.7849 - val_loss: 0.6373 - val_accuracy: 0.6389\n",
            "Epoch 19/75\n",
            "27/27 [==============================] - 0s 2ms/step - loss: 0.5087 - accuracy: 0.7583 - val_loss: 0.6284 - val_accuracy: 0.6389\n",
            "Epoch 20/75\n",
            "27/27 [==============================] - 0s 2ms/step - loss: 0.4760 - accuracy: 0.8146 - val_loss: 0.6191 - val_accuracy: 0.6389\n",
            "Epoch 21/75\n",
            "27/27 [==============================] - 0s 2ms/step - loss: 0.5121 - accuracy: 0.7829 - val_loss: 0.6200 - val_accuracy: 0.6389\n",
            "Epoch 22/75\n",
            "27/27 [==============================] - 0s 2ms/step - loss: 0.4685 - accuracy: 0.7949 - val_loss: 0.6178 - val_accuracy: 0.6389\n",
            "Epoch 23/75\n",
            "27/27 [==============================] - 0s 2ms/step - loss: 0.4671 - accuracy: 0.8325 - val_loss: 0.6122 - val_accuracy: 0.6389\n",
            "Epoch 24/75\n",
            "27/27 [==============================] - 0s 2ms/step - loss: 0.4695 - accuracy: 0.7895 - val_loss: 0.6098 - val_accuracy: 0.6389\n",
            "Epoch 25/75\n",
            "27/27 [==============================] - 0s 3ms/step - loss: 0.4604 - accuracy: 0.8085 - val_loss: 0.6050 - val_accuracy: 0.6389\n",
            "Epoch 26/75\n",
            "27/27 [==============================] - 0s 2ms/step - loss: 0.4974 - accuracy: 0.7911 - val_loss: 0.6107 - val_accuracy: 0.6667\n",
            "Epoch 27/75\n",
            "27/27 [==============================] - 0s 2ms/step - loss: 0.4310 - accuracy: 0.8651 - val_loss: 0.5854 - val_accuracy: 0.6667\n",
            "Epoch 28/75\n",
            "27/27 [==============================] - 0s 2ms/step - loss: 0.4425 - accuracy: 0.8311 - val_loss: 0.5931 - val_accuracy: 0.6667\n",
            "Epoch 29/75\n",
            "27/27 [==============================] - 0s 2ms/step - loss: 0.4375 - accuracy: 0.8400 - val_loss: 0.5843 - val_accuracy: 0.7222\n",
            "Epoch 30/75\n",
            "27/27 [==============================] - 0s 2ms/step - loss: 0.4688 - accuracy: 0.8141 - val_loss: 0.5853 - val_accuracy: 0.6944\n",
            "Epoch 31/75\n",
            "27/27 [==============================] - 0s 2ms/step - loss: 0.4373 - accuracy: 0.8400 - val_loss: 0.5796 - val_accuracy: 0.7222\n",
            "Epoch 32/75\n",
            "27/27 [==============================] - 0s 2ms/step - loss: 0.3922 - accuracy: 0.8581 - val_loss: 0.5702 - val_accuracy: 0.7222\n",
            "Epoch 33/75\n",
            "27/27 [==============================] - 0s 2ms/step - loss: 0.3835 - accuracy: 0.8413 - val_loss: 0.5866 - val_accuracy: 0.7222\n",
            "Epoch 34/75\n",
            "27/27 [==============================] - 0s 2ms/step - loss: 0.4070 - accuracy: 0.8037 - val_loss: 0.5776 - val_accuracy: 0.7222\n",
            "Epoch 35/75\n",
            "27/27 [==============================] - 0s 2ms/step - loss: 0.4294 - accuracy: 0.8746 - val_loss: 0.5781 - val_accuracy: 0.7222\n",
            "Epoch 36/75\n",
            "27/27 [==============================] - 0s 2ms/step - loss: 0.3744 - accuracy: 0.8855 - val_loss: 0.5721 - val_accuracy: 0.7222\n",
            "Epoch 37/75\n",
            "27/27 [==============================] - 0s 2ms/step - loss: 0.4060 - accuracy: 0.8473 - val_loss: 0.5767 - val_accuracy: 0.7222\n",
            "Epoch 38/75\n",
            "27/27 [==============================] - 0s 2ms/step - loss: 0.3616 - accuracy: 0.8646 - val_loss: 0.5645 - val_accuracy: 0.7500\n",
            "Epoch 39/75\n",
            "27/27 [==============================] - 0s 3ms/step - loss: 0.3484 - accuracy: 0.8827 - val_loss: 0.5719 - val_accuracy: 0.7500\n",
            "Epoch 40/75\n",
            "27/27 [==============================] - 0s 2ms/step - loss: 0.4182 - accuracy: 0.8324 - val_loss: 0.5649 - val_accuracy: 0.7500\n",
            "Epoch 41/75\n",
            "27/27 [==============================] - 0s 2ms/step - loss: 0.3805 - accuracy: 0.8337 - val_loss: 0.5525 - val_accuracy: 0.7500\n",
            "Epoch 42/75\n",
            "27/27 [==============================] - 0s 2ms/step - loss: 0.4309 - accuracy: 0.7982 - val_loss: 0.5741 - val_accuracy: 0.7500\n",
            "Epoch 43/75\n",
            "27/27 [==============================] - 0s 2ms/step - loss: 0.3554 - accuracy: 0.8545 - val_loss: 0.5715 - val_accuracy: 0.7500\n",
            "Epoch 44/75\n",
            "27/27 [==============================] - 0s 2ms/step - loss: 0.3316 - accuracy: 0.8948 - val_loss: 0.5564 - val_accuracy: 0.7500\n",
            "Epoch 45/75\n",
            "27/27 [==============================] - 0s 2ms/step - loss: 0.3904 - accuracy: 0.8071 - val_loss: 0.5721 - val_accuracy: 0.7500\n",
            "Epoch 46/75\n",
            "27/27 [==============================] - 0s 2ms/step - loss: 0.4437 - accuracy: 0.7822 - val_loss: 0.5719 - val_accuracy: 0.7500\n",
            "Epoch 47/75\n",
            "27/27 [==============================] - 0s 3ms/step - loss: 0.2855 - accuracy: 0.8954 - val_loss: 0.5797 - val_accuracy: 0.7500\n",
            "Epoch 48/75\n",
            "27/27 [==============================] - 0s 3ms/step - loss: 0.3442 - accuracy: 0.8551 - val_loss: 0.5597 - val_accuracy: 0.7500\n",
            "Epoch 49/75\n",
            "27/27 [==============================] - 0s 2ms/step - loss: 0.3077 - accuracy: 0.8680 - val_loss: 0.5669 - val_accuracy: 0.7500\n",
            "Epoch 50/75\n",
            "27/27 [==============================] - 0s 3ms/step - loss: 0.3277 - accuracy: 0.8978 - val_loss: 0.5796 - val_accuracy: 0.7500\n",
            "Epoch 51/75\n",
            "27/27 [==============================] - 0s 2ms/step - loss: 0.3232 - accuracy: 0.8765 - val_loss: 0.5709 - val_accuracy: 0.7500\n",
            "Epoch 52/75\n",
            "27/27 [==============================] - 0s 2ms/step - loss: 0.2967 - accuracy: 0.8835 - val_loss: 0.5821 - val_accuracy: 0.7500\n",
            "Epoch 53/75\n",
            "27/27 [==============================] - 0s 3ms/step - loss: 0.3524 - accuracy: 0.8378 - val_loss: 0.5736 - val_accuracy: 0.7500\n",
            "Epoch 54/75\n",
            "27/27 [==============================] - 0s 2ms/step - loss: 0.3273 - accuracy: 0.9109 - val_loss: 0.5689 - val_accuracy: 0.7500\n",
            "Epoch 55/75\n",
            "27/27 [==============================] - 0s 3ms/step - loss: 0.3839 - accuracy: 0.8173 - val_loss: 0.5631 - val_accuracy: 0.7500\n",
            "Epoch 56/75\n",
            "27/27 [==============================] - 0s 2ms/step - loss: 0.3672 - accuracy: 0.8443 - val_loss: 0.5696 - val_accuracy: 0.7778\n",
            "Epoch 57/75\n",
            "27/27 [==============================] - 0s 2ms/step - loss: 0.3794 - accuracy: 0.8686 - val_loss: 0.5555 - val_accuracy: 0.7778\n",
            "Epoch 58/75\n",
            "27/27 [==============================] - 0s 2ms/step - loss: 0.3621 - accuracy: 0.8195 - val_loss: 0.5804 - val_accuracy: 0.7778\n",
            "Epoch 59/75\n",
            "27/27 [==============================] - 0s 2ms/step - loss: 0.3259 - accuracy: 0.8471 - val_loss: 0.5669 - val_accuracy: 0.7778\n",
            "Epoch 60/75\n",
            "27/27 [==============================] - 0s 2ms/step - loss: 0.3863 - accuracy: 0.8473 - val_loss: 0.5649 - val_accuracy: 0.8056\n",
            "Epoch 61/75\n",
            "27/27 [==============================] - 0s 3ms/step - loss: 0.3054 - accuracy: 0.9081 - val_loss: 0.5552 - val_accuracy: 0.8056\n",
            "Epoch 62/75\n",
            "27/27 [==============================] - 0s 2ms/step - loss: 0.3265 - accuracy: 0.8451 - val_loss: 0.5809 - val_accuracy: 0.7778\n",
            "Epoch 63/75\n",
            "27/27 [==============================] - 0s 2ms/step - loss: 0.3272 - accuracy: 0.8891 - val_loss: 0.5799 - val_accuracy: 0.8056\n",
            "Epoch 64/75\n",
            "27/27 [==============================] - 0s 3ms/step - loss: 0.3677 - accuracy: 0.8393 - val_loss: 0.5696 - val_accuracy: 0.8056\n",
            "Epoch 65/75\n",
            "27/27 [==============================] - 0s 2ms/step - loss: 0.2968 - accuracy: 0.8582 - val_loss: 0.5718 - val_accuracy: 0.7778\n",
            "Epoch 66/75\n",
            "27/27 [==============================] - 0s 2ms/step - loss: 0.3162 - accuracy: 0.8313 - val_loss: 0.5698 - val_accuracy: 0.8056\n",
            "Epoch 67/75\n",
            "27/27 [==============================] - 0s 2ms/step - loss: 0.3371 - accuracy: 0.8773 - val_loss: 0.5735 - val_accuracy: 0.7778\n",
            "Epoch 68/75\n",
            "27/27 [==============================] - 0s 3ms/step - loss: 0.4090 - accuracy: 0.8224 - val_loss: 0.5757 - val_accuracy: 0.8056\n",
            "Epoch 69/75\n",
            "27/27 [==============================] - 0s 3ms/step - loss: 0.3507 - accuracy: 0.8194 - val_loss: 0.5803 - val_accuracy: 0.8056\n",
            "Epoch 70/75\n",
            "27/27 [==============================] - 0s 2ms/step - loss: 0.3361 - accuracy: 0.8615 - val_loss: 0.5635 - val_accuracy: 0.8056\n",
            "Epoch 71/75\n",
            "27/27 [==============================] - 0s 2ms/step - loss: 0.2904 - accuracy: 0.8649 - val_loss: 0.5827 - val_accuracy: 0.8056\n",
            "Epoch 72/75\n",
            "27/27 [==============================] - 0s 2ms/step - loss: 0.2901 - accuracy: 0.8935 - val_loss: 0.5605 - val_accuracy: 0.8056\n",
            "Epoch 73/75\n",
            "27/27 [==============================] - 0s 2ms/step - loss: 0.3395 - accuracy: 0.8645 - val_loss: 0.5899 - val_accuracy: 0.8056\n",
            "Epoch 74/75\n",
            "27/27 [==============================] - 0s 2ms/step - loss: 0.2976 - accuracy: 0.8614 - val_loss: 0.5911 - val_accuracy: 0.7778\n",
            "Epoch 75/75\n",
            "27/27 [==============================] - 0s 2ms/step - loss: 0.3161 - accuracy: 0.8701 - val_loss: 0.5801 - val_accuracy: 0.8056\n"
          ],
          "name": "stdout"
        },
        {
          "output_type": "execute_result",
          "data": {
            "text/plain": [
              "<keras.callbacks.History at 0x7f91182f1fd0>"
            ]
          },
          "metadata": {
            "tags": []
          },
          "execution_count": 32
        }
      ]
    },
    {
      "cell_type": "markdown",
      "metadata": {
        "id": "E4ura7Up1NYU"
      },
      "source": [
        "Printing the Output"
      ]
    },
    {
      "cell_type": "code",
      "metadata": {
        "colab": {
          "base_uri": "https://localhost:8080/"
        },
        "id": "pZH82x4Z1Pqn",
        "outputId": "505d2ff0-6b44-42dd-b829-2cc90939635a"
      },
      "source": [
        "loss,acc = model.evaluate(X_test_scaled,Y_test)\n",
        "PredictedOutput = (model.predict(X_test_scaled) > 0.5).astype(\"int32\")\n",
        "print(PredictedOutput)\n",
        "test_recall = recall_score(Y_test, PredictedOutput, pos_label=1)\n",
        "fpr, tpr, thresholds = roc_curve(Y_test, PredictedOutput, pos_label=1)\n",
        "test_auc = auc(fpr, tpr)\n",
        "print(\"Test accuracy is\", acc)\n",
        "confusion_matrix(Y_test, PredictedOutput)"
      ],
      "execution_count": 33,
      "outputs": [
        {
          "output_type": "stream",
          "text": [
            "2/2 [==============================] - 0s 7ms/step - loss: 0.5801 - accuracy: 0.8056\n",
            "[[1]\n",
            " [1]\n",
            " [1]\n",
            " [1]\n",
            " [1]\n",
            " [1]\n",
            " [0]\n",
            " [1]\n",
            " [0]\n",
            " [1]\n",
            " [1]\n",
            " [1]\n",
            " [1]\n",
            " [1]\n",
            " [1]\n",
            " [1]\n",
            " [1]\n",
            " [1]\n",
            " [1]\n",
            " [0]\n",
            " [0]\n",
            " [1]\n",
            " [1]\n",
            " [1]\n",
            " [0]\n",
            " [0]\n",
            " [0]\n",
            " [0]\n",
            " [0]\n",
            " [0]\n",
            " [1]\n",
            " [1]\n",
            " [0]\n",
            " [0]\n",
            " [1]\n",
            " [0]]\n",
            "Test accuracy is 0.8055555820465088\n"
          ],
          "name": "stdout"
        },
        {
          "output_type": "execute_result",
          "data": {
            "text/plain": [
              "array([[12,  6],\n",
              "       [ 1, 17]])"
            ]
          },
          "metadata": {
            "tags": []
          },
          "execution_count": 33
        }
      ]
    },
    {
      "cell_type": "markdown",
      "metadata": {
        "id": "UGz76pEk1hoW"
      },
      "source": [
        "## SVM "
      ]
    },
    {
      "cell_type": "markdown",
      "metadata": {
        "id": "8wxW5tVM1vaz"
      },
      "source": [
        "Building a SVM model"
      ]
    },
    {
      "cell_type": "code",
      "metadata": {
        "id": "smevo6EX1nwZ"
      },
      "source": [
        "best_score = 0\n",
        "kfolds = 5\n",
        "for c_paramter in [0.001, 0.01, 0.1, 1, 10, 100, 1000]: #iterate over the values we need to try for the parameter C\n",
        "    for gamma_paramter in [0.001, 0.01, 0.1, 1, 10, 100, 1000]: #iterate over the values we need to try for the parameter gamma\n",
        "        for k_parameter in ['rbf', 'linear', 'poly', 'sigmoid']: # iterate over the values we need to try for the kernel parameter\n",
        "            svmModel = SVC(kernel=k_parameter, C=c_paramter, gamma=gamma_paramter) #define the model\n",
        "            # perform cross-validation\n",
        "            scores = cross_val_score(svmModel, X_trainval_scaled, Y_trainval, cv=kfolds, scoring='accuracy')\n",
        "            # the training set will be split internally into training and cross validation\n",
        "\n",
        "            # compute mean cross-validation accuracy\n",
        "            score = np.mean(scores)\n",
        "            # if we got a better score, store the score and parameters\n",
        "            if score > best_score:\n",
        "                best_score = score #store the score \n",
        "                best_parameter_c = c_paramter #store the parameter c\n",
        "                best_parameter_gamma = gamma_paramter #store the parameter gamma\n",
        "                best_parameter_k = k_parameter\n",
        "            \n",
        "\n",
        "# rebuild a model with best parameters to get score \n",
        "SelectedSVMmodel = SVC(C=best_parameter_c, gamma=best_parameter_gamma, kernel=best_parameter_k).fit(X_trainval_scaled, Y_trainval)"
      ],
      "execution_count": 34,
      "outputs": []
    },
    {
      "cell_type": "markdown",
      "metadata": {
        "id": "4FQxF7-v11jm"
      },
      "source": [
        "Printing output"
      ]
    },
    {
      "cell_type": "code",
      "metadata": {
        "colab": {
          "base_uri": "https://localhost:8080/"
        },
        "id": "AgBf9iqU13pz",
        "outputId": "644cab23-0492-4de4-8b73-5d80e1cdb2b5"
      },
      "source": [
        "test_score = SelectedSVMmodel.score(X_test_scaled, Y_test)\n",
        "PredictedOutput = SelectedSVMmodel.predict(X_test_scaled)\n",
        "print(PredictedOutput)\n",
        "test_recall = recall_score(Y_test, PredictedOutput, pos_label=1)\n",
        "fpr, tpr, thresholds = roc_curve(Y_test, PredictedOutput, pos_label=1)\n",
        "test_auc = auc(fpr, tpr)\n",
        "print(\"Best accuracy on cross validation set is:\", best_score)\n",
        "print(\"Best parameter for c is: \", best_parameter_c)\n",
        "print(\"Best parameter for gamma is: \", best_parameter_gamma)\n",
        "print(\"Best parameter for kernel is: \", best_parameter_k)\n",
        "print(\"Test accuracy with the best parameters is\", test_score)\n",
        "confusion_matrix(Y_test, PredictedOutput)"
      ],
      "execution_count": 35,
      "outputs": [
        {
          "output_type": "stream",
          "text": [
            "[0 0 0 0 1 1 0 0 0 1 0 0 1 1 1 1 1 1 0 1 0 1 1 1 0 1 0 1 0 0 0 0 0 0 1 0]\n",
            "Best accuracy on cross validation set is: 0.7264069264069264\n",
            "Best parameter for c is:  10\n",
            "Best parameter for gamma is:  0.1\n",
            "Best parameter for kernel is:  sigmoid\n",
            "Test accuracy with the best parameters is 0.6666666666666666\n"
          ],
          "name": "stdout"
        },
        {
          "output_type": "execute_result",
          "data": {
            "text/plain": [
              "array([[13,  5],\n",
              "       [ 7, 11]])"
            ]
          },
          "metadata": {
            "tags": []
          },
          "execution_count": 35
        }
      ]
    },
    {
      "cell_type": "markdown",
      "metadata": {
        "id": "n6Psc6C2184x"
      },
      "source": [
        "## Decision Tree Classification"
      ]
    },
    {
      "cell_type": "markdown",
      "metadata": {
        "id": "xxfCDewp1_9V"
      },
      "source": [
        "Building a Decision Tree Classification Model"
      ]
    },
    {
      "cell_type": "code",
      "metadata": {
        "id": "IMKQ4uux2Fai"
      },
      "source": [
        "best_score = 0\n",
        "\n",
        "for md in range(1, 9): # iterate different maximum depth values\n",
        "    # train the model\n",
        "    treeModel = DecisionTreeClassifier(random_state=0, max_depth=md, criterion='gini')\n",
        "    # perform cross-validation\n",
        "    scores = cross_val_score(treeModel, X_trainval_scaled, Y_trainval, cv=kfolds, scoring='accuracy')\n",
        "    \n",
        "    # compute mean cross-validation accuracy\n",
        "    score = np.mean(scores)\n",
        "    \n",
        "    # if we got a better score, store the score and parameters\n",
        "    if score > best_score:\n",
        "        best_score = score\n",
        "        best_parameter = md\n",
        "\n",
        "# Rebuild a model on the combined training and validation set        \n",
        "SelectedDTModel = DecisionTreeClassifier(max_depth=best_parameter).fit(X_trainval_scaled, Y_trainval )\n"
      ],
      "execution_count": 36,
      "outputs": []
    },
    {
      "cell_type": "markdown",
      "metadata": {
        "id": "yscgr38N2IxK"
      },
      "source": [
        "Printing Output"
      ]
    },
    {
      "cell_type": "code",
      "metadata": {
        "colab": {
          "base_uri": "https://localhost:8080/"
        },
        "id": "i4NCSlxG2KF4",
        "outputId": "4b04bf42-3aca-4311-ed35-d96cbfc4f8a6"
      },
      "source": [
        "test_score = SelectedDTModel.score(X_test_scaled, Y_test)\n",
        "PredictedOutput = SelectedDTModel.predict(X_test_scaled)\n",
        "print(PredictedOutput)\n",
        "test_recall = recall_score(Y_test, PredictedOutput, pos_label=1)\n",
        "fpr, tpr, thresholds = roc_curve(Y_test, PredictedOutput, pos_label=1)\n",
        "test_auc = auc(fpr, tpr)\n",
        "print(\"Best accuracy on validation set is:\", best_score)\n",
        "print(\"Best parameter for the maximum depth is: \", best_parameter)\n",
        "print(\"Test accuracy with best parameter is \", test_score)\n",
        "confusion_matrix(Y_test, PredictedOutput)"
      ],
      "execution_count": 37,
      "outputs": [
        {
          "output_type": "stream",
          "text": [
            "[0 0 1 0 1 1 0 0 0 1 0 0 0 0 1 0 1 1 1 0 0 1 1 1 0 0 0 0 0 0 1 1 0 0 1 0]\n",
            "Best accuracy on validation set is: 0.7731601731601732\n",
            "Best parameter for the maximum depth is:  1\n",
            "Test accuracy with best parameter is  0.8333333333333334\n"
          ],
          "name": "stdout"
        },
        {
          "output_type": "execute_result",
          "data": {
            "text/plain": [
              "array([[17,  1],\n",
              "       [ 5, 13]])"
            ]
          },
          "metadata": {
            "tags": []
          },
          "execution_count": 37
        }
      ]
    },
    {
      "cell_type": "markdown",
      "metadata": {
        "id": "iKCSVjYI2PKI"
      },
      "source": [
        "## Random Forest Classification"
      ]
    },
    {
      "cell_type": "markdown",
      "metadata": {
        "id": "8pxO8fIK2RvB"
      },
      "source": [
        "Building a random forest classification model"
      ]
    },
    {
      "cell_type": "code",
      "metadata": {
        "id": "ENVIIWfS2VEN"
      },
      "source": [
        "best_score = 0\n",
        "\n",
        "for M in range(2, 15, 2): # combines M trees\n",
        "    for d in range(1, 9): # maximum number of features considered at each split\n",
        "        for m in range(1, 9): # maximum depth of the tree\n",
        "            # train the model\n",
        "            # n_jobs(4) is the number of parallel computing\n",
        "            forestModel = RandomForestClassifier(n_estimators=M, max_features=d, n_jobs=4,\n",
        "                                          max_depth=m, random_state=0)\n",
        "        \n",
        "            # perform cross-validation\n",
        "            scores = cross_val_score(forestModel, X_trainval_scaled, Y_trainval, cv=kfolds, scoring='accuracy')\n",
        "\n",
        "            # compute mean cross-validation accuracy\n",
        "            score = np.mean(scores)\n",
        "\n",
        "            # if we got a better score, store the score and parameters\n",
        "            if score > best_score:\n",
        "                best_score = score\n",
        "                best_M = M\n",
        "                best_d = d\n",
        "                best_m = m\n",
        "\n",
        "# Rebuild a model on the combined training and validation set        \n",
        "SelectedRFModel = RandomForestClassifier(n_estimators=M, max_features=d,\n",
        "                                          max_depth=m, random_state=0).fit(X_trainval_scaled, Y_trainval )"
      ],
      "execution_count": null,
      "outputs": []
    },
    {
      "cell_type": "markdown",
      "metadata": {
        "id": "z5mWszgf2ZQQ"
      },
      "source": [
        "Printing Output"
      ]
    },
    {
      "cell_type": "code",
      "metadata": {
        "id": "1Xn5muqs2ae8"
      },
      "source": [
        "PredictedOutput = SelectedRFModel.predict(X_test_scaled)\n",
        "print(PredictedOutput)\n",
        "test_score = SelectedRFModel.score(X_test_scaled, Y_test)\n",
        "test_recall = recall_score(Y_test, PredictedOutput, pos_label=1)\n",
        "fpr, tpr, thresholds = roc_curve(Y_test, PredictedOutput, pos_label=1)\n",
        "test_auc = auc(fpr, tpr)\n",
        "print(\"Best accuracy on validation set is:\", best_score)\n",
        "print(\"Best parameters of M, d, m are: \", best_M, best_d, best_m)\n",
        "print(\"Test accuracy with the best parameters is\", test_score)\n",
        "confusion_matrix(Y_test, PredictedOutput)\n"
      ],
      "execution_count": null,
      "outputs": []
    },
    {
      "cell_type": "markdown",
      "metadata": {
        "id": "I4WmWcCi2hGK"
      },
      "source": [
        "## AdaBoost Classification"
      ]
    },
    {
      "cell_type": "markdown",
      "metadata": {
        "id": "p2aY4n682jhw"
      },
      "source": [
        "Building AdaBoost classification Model"
      ]
    },
    {
      "cell_type": "code",
      "metadata": {
        "id": "Ta5Zx8SO2mYx"
      },
      "source": [
        "best_score = 0\n",
        "\n",
        "for M in range(2, 15, 2): # combines M trees\n",
        "    for lr in [0.0001, 0.001, 0.01, 0.1, 1]:\n",
        "        # train the model\n",
        "        boostModel = AdaBoostClassifier(n_estimators=M, learning_rate=lr, random_state=0)\n",
        "\n",
        "        # perform cross-validation\n",
        "        scores = cross_val_score(boostModel, X_trainval_scaled, Y_trainval, cv=kfolds, scoring='accuracy')\n",
        "\n",
        "        # compute mean cross-validation accuracy\n",
        "        score = np.mean(scores)\n",
        "\n",
        "        # if we got a better score, store the score and parameters\n",
        "        if score > best_score:\n",
        "            best_score = score\n",
        "            best_M = M\n",
        "            best_lr = lr\n",
        "\n",
        "# Rebuild a model on the combined training and validation set        \n",
        "SelectedBoostModel = AdaBoostClassifier(n_estimators=M, learning_rate=lr, random_state=0).fit(X_trainval_scaled, Y_trainval )\n"
      ],
      "execution_count": null,
      "outputs": []
    },
    {
      "cell_type": "markdown",
      "metadata": {
        "id": "ddW7Xa4l2pYt"
      },
      "source": [
        "Printing Output"
      ]
    },
    {
      "cell_type": "code",
      "metadata": {
        "id": "7lPiMYv02q55"
      },
      "source": [
        "PredictedOutput = SelectedBoostModel.predict(X_test_scaled)\n",
        "print(PredictedOutput)\n",
        "test_score = SelectedRFModel.score(X_test_scaled, Y_test)\n",
        "test_recall = recall_score(Y_test, PredictedOutput, pos_label=1)\n",
        "fpr, tpr, thresholds = roc_curve(Y_test, PredictedOutput, pos_label=1)\n",
        "test_auc = auc(fpr, tpr)\n",
        "print(\"Best accuracy on validation set is:\", best_score)\n",
        "print(\"Best parameter of M is: \", best_M)\n",
        "print(\"best parameter of LR is: \", best_lr)\n",
        "print(\"Test accuracy with the best parameter is\", test_score)\n",
        "confusion_matrix(Y_test, PredictedOutput)"
      ],
      "execution_count": null,
      "outputs": []
    },
    {
      "cell_type": "markdown",
      "metadata": {
        "id": "WFxpLiVS2vZ1"
      },
      "source": [
        "## Logistic Regression"
      ]
    },
    {
      "cell_type": "markdown",
      "metadata": {
        "id": "DWUdK9L42zsh"
      },
      "source": [
        "Building a Logisting Regression Model"
      ]
    },
    {
      "cell_type": "code",
      "metadata": {
        "id": "lC3dVTjS22jZ"
      },
      "source": [
        "best_score=0\n",
        "kfolds=5 # set the number of folds\n",
        "\n",
        "for c in [0.001, 0.1, 1, 10, 100]:\n",
        "    logRegModel = LogisticRegression(C=c)\n",
        "    # perform cross-validation\n",
        "    scores = cross_val_score(logRegModel, X_trainval_scaled, Y_trainval, cv=kfolds, scoring='accuracy')\n",
        "    \n",
        "    # compute mean cross-validation accuracy\n",
        "    score = np.mean(scores)\n",
        "    \n",
        "    # Find the best parameters and score\n",
        "    if score > best_score:\n",
        "        best_score = score\n",
        "        best_parameters = c\n",
        "\n",
        "# rebuild a model on the combined training and validation set\n",
        "SelectedLogRegModel = LogisticRegression(C=best_parameters).fit(X_trainval_scaled, Y_trainval)\n"
      ],
      "execution_count": null,
      "outputs": []
    },
    {
      "cell_type": "markdown",
      "metadata": {
        "id": "qON9iq1i25v_"
      },
      "source": [
        "Printing output"
      ]
    },
    {
      "cell_type": "code",
      "metadata": {
        "id": "WpJGsoYP27NY"
      },
      "source": [
        "test_score = SelectedLogRegModel.score(X_test_scaled, Y_test)\n",
        "PredictedOutput = SelectedLogRegModel.predict(X_test_scaled)\n",
        "print(PredictedOutput)\n",
        "test_recall = recall_score(Y_test, PredictedOutput, pos_label=1)\n",
        "fpr, tpr, thresholds = roc_curve(Y_test, PredictedOutput, pos_label=1)\n",
        "test_auc = auc(fpr, tpr)\n",
        "print(\"Best accuracy on validation set is:\", best_score)\n",
        "print(\"Best parameter for regularization (C) is: \", best_parameters)\n",
        "print(\"Test accuracy with best C parameter is\", test_score)        \n",
        "confusion_matrix(Y_test, PredictedOutput)\n"
      ],
      "execution_count": null,
      "outputs": []
    }
  ]
}